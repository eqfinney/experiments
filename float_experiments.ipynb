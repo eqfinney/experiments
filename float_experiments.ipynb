{
 "metadata": {
  "name": "",
  "signature": "sha256:90094b5e48d0f0c49aab179fda0dc63bd3da25d2158fbe3d6376ce67cfdc0061"
 },
 "nbformat": 3,
 "nbformat_minor": 0,
 "worksheets": [
  {
   "cells": [
    {
     "cell_type": "markdown",
     "metadata": {},
     "source": [
      "### implement floating point addition!"
     ]
    },
    {
     "cell_type": "markdown",
     "metadata": {},
     "source": [
      "What does it mean to implement floating point addition? There's an easy way, obviously: just add 2 numbers. For example in floating point, 2^64 + 1 == 2^64"
     ]
    },
    {
     "cell_type": "code",
     "collapsed": false,
     "input": [
      "float(2**64) + 1 == float(2**64)"
     ],
     "language": "python",
     "metadata": {},
     "outputs": [
      {
       "metadata": {},
       "output_type": "pyout",
       "prompt_number": 30,
       "text": [
        "True"
       ]
      }
     ],
     "prompt_number": 30
    },
    {
     "cell_type": "markdown",
     "metadata": {},
     "source": [
      "That's no fun though! The goal here is to take the binary representation of 2 floating point numbers, and figure out how to add them! Here's a tiny Python function (using the `struct` module) that shows you the binary representation of any floating point number and splits it into its sign + exponent + fraction:"
     ]
    },
    {
     "cell_type": "code",
     "collapsed": false,
     "input": [
      "# Split a floating point number up into its sign + exponent + fraction\n",
      "def parts(binary):\n",
      "    return {\n",
      "        'sign': binary[:1], 'exponent': binary[1:9], 'fraction': binary[9:]\n",
      "    }"
     ],
     "language": "python",
     "metadata": {},
     "outputs": [],
     "prompt_number": 169
    },
    {
     "cell_type": "code",
     "collapsed": false,
     "input": [
      "import struct\n",
      "\n",
      "# display_float takes a float and prints its binary representation!\n",
      "def display_float(f):\n",
      "    x = struct.pack('<f', f)\n",
      "    binary = bin(struct.unpack('<l', x)[0]).lstrip('0b')\n",
      "    length = len(binary)\n",
      "    binary = (32 - len(binary)) * '0' + binary # pad extra 0s onto the beginning to get to 32 bits\n",
      "    print(binary)\n",
      "    print(parts(binary))"
     ],
     "language": "python",
     "metadata": {},
     "outputs": [],
     "prompt_number": 170
    },
    {
     "cell_type": "code",
     "collapsed": false,
     "input": [
      "display_float(2.0)"
     ],
     "language": "python",
     "metadata": {},
     "outputs": [
      {
       "output_type": "stream",
       "stream": "stdout",
       "text": [
        "01000000000000000000000000000000\n",
        "{'exponent': '10000000', 'fraction': '00000000000000000000000', 'sign': '0'}\n"
       ]
      }
     ],
     "prompt_number": 171
    },
    {
     "cell_type": "markdown",
     "metadata": {},
     "source": [
      "What about 2^32 and 2^16?"
     ]
    },
    {
     "cell_type": "code",
     "collapsed": false,
     "input": [
      "display_float(2**32)"
     ],
     "language": "python",
     "metadata": {},
     "outputs": [
      {
       "output_type": "stream",
       "stream": "stdout",
       "text": [
        "01001111100000000000000000000000\n",
        "{'exponent': '10011111', 'fraction': '00000000000000000000000', 'sign': '0'}\n"
       ]
      }
     ],
     "prompt_number": 172
    },
    {
     "cell_type": "code",
     "collapsed": false,
     "input": [
      "display_float(2**32)"
     ],
     "language": "python",
     "metadata": {},
     "outputs": [
      {
       "output_type": "stream",
       "stream": "stdout",
       "text": [
        "01001111100000000000000000000000\n",
        "{'exponent': '10011111', 'fraction': '00000000000000000000000', 'sign': '0'}\n"
       ]
      }
     ],
     "prompt_number": 173
    },
    {
     "cell_type": "code",
     "collapsed": false,
     "input": [
      "display_float(2**16)"
     ],
     "language": "python",
     "metadata": {},
     "outputs": [
      {
       "output_type": "stream",
       "stream": "stdout",
       "text": [
        "01000111100000000000000000000000\n",
        "{'exponent': '10001111', 'fraction': '00000000000000000000000', 'sign': '0'}\n"
       ]
      }
     ],
     "prompt_number": 174
    },
    {
     "cell_type": "markdown",
     "metadata": {},
     "source": [
      "Huh, how about 2^16 + 2.3? This one has the same first bit as 2^16, with an extra part at the end..."
     ]
    },
    {
     "cell_type": "code",
     "collapsed": false,
     "input": [
      "display_float(2**16 + 2.3)"
     ],
     "language": "python",
     "metadata": {},
     "outputs": [
      {
       "output_type": "stream",
       "stream": "stdout",
       "text": [
        "01000111100000000000000100100110\n",
        "{'exponent': '10001111', 'fraction': '00000000000000100100110', 'sign': '0'}\n"
       ]
      }
     ],
     "prompt_number": 175
    },
    {
     "cell_type": "markdown",
     "metadata": {},
     "source": [
      "Here are a couple more examples for you to mull over."
     ]
    },
    {
     "cell_type": "code",
     "collapsed": false,
     "input": [
      "display_float(2**8)"
     ],
     "language": "python",
     "metadata": {},
     "outputs": [
      {
       "output_type": "stream",
       "stream": "stdout",
       "text": [
        "01000011100000000000000000000000\n",
        "{'exponent': '10000111', 'fraction': '00000000000000000000000', 'sign': '0'}\n"
       ]
      }
     ],
     "prompt_number": 176
    },
    {
     "cell_type": "code",
     "collapsed": false,
     "input": [
      "display_float(2**8 + 2.238232)"
     ],
     "language": "python",
     "metadata": {},
     "outputs": [
      {
       "output_type": "stream",
       "stream": "stdout",
       "text": [
        "01000011100000010001111001111110\n",
        "{'exponent': '10000111', 'fraction': '00000010001111001111110', 'sign': '0'}\n"
       ]
      }
     ],
     "prompt_number": 177
    },
    {
     "cell_type": "markdown",
     "metadata": {},
     "source": [
      "let's look at the representation for 2.238232! you can see the fraction is actually pretty similar:\n",
      "\n",
      "```\n",
      "2**8 + 2.238232's fraction:          00000010001111001111110\n",
      "       2.238232's fraction:                 00011110011111100110001\n",
      "```\n",
      "\n",
      "It's shifted over by 7, which is not-so-coincidentally the difference between the 2 exponents -- `2**8`'s exponent (8) is 7 higher than 2's exponent (1)."
     ]
    },
    {
     "cell_type": "code",
     "collapsed": false,
     "input": [
      "display_float(2.238232)"
     ],
     "language": "python",
     "metadata": {},
     "outputs": [
      {
       "output_type": "stream",
       "stream": "stdout",
       "text": [
        "01000000000011110011111100110001\n",
        "{'exponent': '10000000', 'fraction': '00011110011111100110001', 'sign': '0'}\n"
       ]
      }
     ],
     "prompt_number": 167
    },
    {
     "cell_type": "code",
     "collapsed": false,
     "input": [
      "# Here's NaN and infinity\n",
      "display_float(float(\"nan\"))\n",
      "display_float(float(\"inf\"))"
     ],
     "language": "python",
     "metadata": {},
     "outputs": [
      {
       "output_type": "stream",
       "stream": "stdout",
       "text": [
        "01111111110000000000000000000000\n",
        "{'exponent': '11111111', 'fraction': '10000000000000000000000', 'sign': '0'}\n",
        "01111111100000000000000000000000\n",
        "{'exponent': '11111111', 'fraction': '00000000000000000000000', 'sign': '0'}\n"
       ]
      }
     ],
     "prompt_number": 168
    }
   ],
   "metadata": {}
  }
 ]
}